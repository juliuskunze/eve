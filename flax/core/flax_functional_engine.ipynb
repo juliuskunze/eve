{
  "cells": [
    {
      "cell_type": "code",
      "metadata": {
        "id": "x0SPwYS9dtYA",
        "colab_type": "code",
        "colab": {}
      },
      "source": [
        "import functools\n",
        "import jax\n",
        "from jax import numpy as jnp, random, lax\n",
        "import numpy as np\n"
      ],
      "execution_count": 1,
      "outputs": []
    },
    {
      "cell_type": "code",
      "metadata": {
        "id": "7n9cxyCzluvI",
        "colab_type": "code",
        "colab": {}
      },
      "source": [
        "from flax import nn, struct"
      ],
      "execution_count": 2,
      "outputs": []
    },
    {
      "cell_type": "code",
      "metadata": {
        "id": "0L7YCrobkfzU",
        "colab_type": "code",
        "colab": {}
      },
      "source": [
        "from flax.core import Scope, init, apply, Array, lift, unfreeze"
      ],
      "execution_count": 3,
      "outputs": []
    },
    {
      "cell_type": "code",
      "metadata": {
        "id": "aDLGb3iGkjoL",
        "colab_type": "code",
        "outputId": "2558605e-e485-407e-b062-74d31cc49f1e",
        "executionInfo": {
          "status": "ok",
          "timestamp": 1590673431275,
          "user_tz": -120,
          "elapsed": 1116,
          "user": {
            "displayName": "Jonathan Heek",
            "photoUrl": "https://lh3.googleusercontent.com/a-/AOh14GhqRcoo1w0woYaM99jSyWQaD-qfmHmeDpXHzHZd=s64",
            "userId": "00491914421152177709"
          }
        },
        "colab": {
          "height": 136
        },
        "tags": []
      },
      "source": [
        "def dense(scope: Scope, inputs: Array, features: int, bias: bool = True,\n",
        "          kernel_init=nn.linear.default_kernel_init,\n",
        "          bias_init=nn.initializers.zeros):\n",
        "  kernel = scope.param('kernel', kernel_init, (inputs.shape[-1], features))\n",
        "  y = jnp.dot(inputs, kernel)\n",
        "  if bias:\n",
        "    y += scope.param('bias', bias_init, (features,))\n",
        "  return y\n",
        "\n",
        "model_fn = functools.partial(dense, features=3)\n",
        "\n",
        "x = jnp.ones((1, 2))\n",
        "y, params = init(model_fn)(random.PRNGKey(0), x)\n",
        "print(params)\n",
        "\n",
        "def mlp(scope: Scope, inputs: Array, features: int):\n",
        "  hidden = scope.child(dense, 'hidden')(inputs, features)\n",
        "  hidden = nn.relu(hidden)\n",
        "  return dense(scope.push('out'), hidden, 1)\n",
        "\n",
        "init(mlp)(random.PRNGKey(0), x, features=3)"
      ],
      "execution_count": 4,
      "outputs": [
        {
          "output_type": "stream",
          "name": "stdout",
          "text": "FrozenDict({'params': {'kernel': DeviceArray([[ 0.15374057, -0.6807397 , -1.3350962 ],\n             [ 0.59940743, -0.69430196, -0.7663768 ]], dtype=float32), 'bias': DeviceArray([0., 0., 0.], dtype=float32)}})\n"
        },
        {
          "output_type": "execute_result",
          "data": {
            "text/plain": "(DeviceArray([[0.17045607]], dtype=float32),\n FrozenDict({'params': {'hidden': {'bias': DeviceArray([0., 0., 0.], dtype=float32), 'kernel': DeviceArray([[-0.22119394,  0.22075175, -0.0925657 ],\n              [ 0.40571952,  0.27750877,  1.0542233 ]], dtype=float32)}, 'out': {'kernel': DeviceArray([[ 0.21448377],\n              [-0.01530595],\n              [ 0.14402702]], dtype=float32), 'bias': DeviceArray([0.], dtype=float32)}}}))"
          },
          "metadata": {},
          "execution_count": 4
        }
      ]
    },
    {
      "cell_type": "code",
      "metadata": {
        "id": "LTFjZbRmlqZh",
        "colab_type": "code",
        "outputId": "5790b763-df4f-47c8-9f4e-53fd1e1eb1fd",
        "executionInfo": {
          "status": "ok",
          "timestamp": 1590672865722,
          "user_tz": -120,
          "elapsed": 526,
          "user": {
            "displayName": "Jonathan Heek",
            "photoUrl": "https://lh3.googleusercontent.com/a-/AOh14GhqRcoo1w0woYaM99jSyWQaD-qfmHmeDpXHzHZd=s64",
            "userId": "00491914421152177709"
          }
        },
        "colab": {
          "height": 85
        },
        "tags": []
      },
      "source": [
        "@struct.dataclass\n",
        "class Embedding:\n",
        "  table: np.ndarray\n",
        "\n",
        "  def lookup(self, indices):\n",
        "    return self.table[indices]\n",
        "\n",
        "  def attend(self, query):\n",
        "    return jnp.dot(query, self.table.T)\n",
        "\n",
        "# all the embedding module does is provide a convenient initializers\n",
        "\n",
        "def embedding(scope: Scope, num_embeddings: int, features: int, init_fn=nn.linear.default_embed_init) -> Embedding:\n",
        "  table = scope.param('table', init_fn, (num_embeddings, features))\n",
        "  return Embedding(table)\n",
        "\n",
        "embedding, _ = init(embedding)(random.PRNGKey(0), num_embeddings=2, features=3)\n",
        "print(embedding.table)\n",
        "print(embedding.lookup(1))\n",
        "print(embedding.attend(jnp.ones((1, 3,))))"
      ],
      "execution_count": 5,
      "outputs": [
        {
          "output_type": "stream",
          "name": "stdout",
          "text": "[[ 0.11575121 -0.51936364 -1.113899  ]\n [ 0.45569834 -0.5300623  -0.5873911 ]]\n[ 0.45569834 -0.5300623  -0.5873911 ]\n[[-1.5175114 -0.6617551]]\n"
        }
      ]
    },
    {
      "cell_type": "code",
      "metadata": {
        "id": "TMlae0hem0u5",
        "colab_type": "code",
        "outputId": "dd9c5079-10e7-4944-e09a-e9f65573a733",
        "executionInfo": {
          "status": "ok",
          "timestamp": 1590673618925,
          "user_tz": -120,
          "elapsed": 342,
          "user": {
            "displayName": "Jonathan Heek",
            "photoUrl": "https://lh3.googleusercontent.com/a-/AOh14GhqRcoo1w0woYaM99jSyWQaD-qfmHmeDpXHzHZd=s64",
            "userId": "00491914421152177709"
          }
        },
        "colab": {
          "height": 71
        }
      },
      "source": [
        "def lstm(scope, carry, inputs,\n",
        "         gate_fn=nn.activation.sigmoid, activation_fn=nn.activation.tanh,\n",
        "         kernel_init=nn.linear.default_kernel_init,\n",
        "         recurrent_kernel_init=nn.initializers.orthogonal(),\n",
        "         bias_init=nn.initializers.zeros):\n",
        "  r\"\"\"A long short-term memory (LSTM) cell.\n",
        "\n",
        "  the mathematical definition of the cell is as follows\n",
        "  .. math::\n",
        "      \\begin{array}{ll}\n",
        "      i = \\sigma(W_{ii} x + W_{hi} h + b_{hi}) \\\\\n",
        "      f = \\sigma(W_{if} x + W_{hf} h + b_{hf}) \\\\\n",
        "      g = \\tanh(W_{ig} x + W_{hg} h + b_{hg}) \\\\\n",
        "      o = \\sigma(W_{io} x + W_{ho} h + b_{ho}) \\\\\n",
        "      c' = f * c + i * g \\\\\n",
        "      h' = o * \\tanh(c') \\\\\n",
        "      \\end{array}\n",
        "  where x is the input, h is the output of the previous time step, and c is\n",
        "  the memory.\n",
        "\n",
        "  Args:\n",
        "    carry: the hidden state of the LSTM cell,\n",
        "      initialized using `LSTMCell.initialize_carry`.\n",
        "    inputs: an ndarray with the input for the current time step.\n",
        "      All dimensions except the final are considered batch dimensions.\n",
        "    gate_fn: activation function used for gates (default: sigmoid)\n",
        "    activation_fn: activation function used for output and memory update\n",
        "      (default: tanh).\n",
        "    kernel_init: initializer function for the kernels that transform\n",
        "      the input (default: lecun_normal).\n",
        "    recurrent_kernel_init: initializer function for the kernels that transform\n",
        "      the hidden state (default: orthogonal).\n",
        "    bias_init: initializer for the bias parameters (default: zeros)\n",
        "  Returns:\n",
        "    A tuple with the new carry and the output.\n",
        "  \"\"\"\n",
        "  c, h = carry\n",
        "  hidden_features = h.shape[-1]\n",
        "  # input and recurrent layers are summed so only one needs a bias.\n",
        "  dense_h = lambda name: scope.child(dense, name)(\n",
        "      h, features=hidden_features, bias=True,\n",
        "      kernel_init=recurrent_kernel_init, bias_init=bias_init)\n",
        "  dense_i = lambda name: scope.child(dense, name)(\n",
        "      inputs, features=hidden_features, bias=False,\n",
        "      kernel_init=kernel_init)\n",
        "  i = gate_fn(dense_i(name='ii') + dense_h(name='hi'))\n",
        "  f = gate_fn(dense_i(name='if') + dense_h(name='hf'))\n",
        "  g = activation_fn(dense_i(name='ig') + dense_h(name='hg'))\n",
        "  o = gate_fn(dense_i(name='io') + dense_h(name='ho'))\n",
        "  new_c = f * c + i * g\n",
        "  new_h = o * activation_fn(new_c)\n",
        "  return (new_c, new_h), new_h\n",
        "\n",
        "def lstm_init_carry(batch_dims, size, init_fn=jnp.zeros):\n",
        "  shape = batch_dims + (size,)\n",
        "  return init_fn(shape), init_fn(shape)\n",
        "\n",
        "x = jnp.ones((1, 2))\n",
        "carry = lstm_init_carry((1,), 3)\n",
        "y, variables = init(lstm)(random.PRNGKey(0), carry, x)\n",
        "jax.tree_map(np.shape, (y, variables))"
      ],
      "execution_count": 6,
      "outputs": [
        {
          "output_type": "execute_result",
          "data": {
            "text/plain": "((((1, 3), (1, 3)), (1, 3)),\n FrozenDict({'params': {'hf': {'bias': (3,), 'kernel': (3, 3)}, 'hg': {'bias': (3,), 'kernel': (3, 3)}, 'hi': {'bias': (3,), 'kernel': (3, 3)}, 'ho': {'bias': (3,), 'kernel': (3, 3)}, 'if': {'kernel': (2, 3)}, 'ig': {'kernel': (2, 3)}, 'ii': {'kernel': (2, 3)}, 'io': {'kernel': (2, 3)}}}))"
          },
          "metadata": {},
          "execution_count": 6
        }
      ]
    },
    {
      "cell_type": "code",
      "execution_count": 9,
      "metadata": {
        "tags": []
      },
      "outputs": [
        {
          "output_type": "stream",
          "name": "stdout",
          "text": "initialized parameter shapes:\n {'params': {'hf': {'bias': (2,), 'kernel': (2, 2)}, 'hg': {'bias': (2,), 'kernel': (2, 2)}, 'hi': {'bias': (2,), 'kernel': (2, 2)}, 'ho': {'bias': (2,), 'kernel': (2, 2)}, 'if': {'kernel': (2, 2)}, 'ig': {'kernel': (2, 2)}, 'ii': {'kernel': (2, 2)}, 'io': {'kernel': (2, 2)}}}\n"
        }
      ],
      "source": [
        "def simple_scan(scope: Scope, xs):\n",
        "  init_carry = lstm_init_carry(xs.shape[:1], xs.shape[-1])\n",
        "#   cell = scope.child(lstm, 'cell')\n",
        "#   ys = []\n",
        "#   for i in range(xs.shape[1]):\n",
        "#       x = xs[:, i]\n",
        "#       init_carry, y = cell(init_carry, x)\n",
        "#       ys.append(y)\n",
        "#   return init_carry, ys\n",
        "  lstm_scan = lift.scan(lstm, in_axes=1, out_axes=1, variable_broadcast='params', split_rngs={'params': False})\n",
        "  return lstm_scan(scope, init_carry, xs)\n",
        "\n",
        "key1, key2 = random.split(random.PRNGKey(0), 2)\n",
        "xs = random.uniform(key1, (1, 5, 2))\n",
        "\n",
        "\n",
        "y, init_variables = init(simple_scan)(key2, xs)\n",
        "\n",
        "print('initialized parameter shapes:\\n', jax.tree_map(jnp.shape, unfreeze(init_variables)))\n"
      ]
    },
    {
      "cell_type": "code",
      "execution_count": 10,
      "metadata": {
        "tags": []
      },
      "outputs": [
        {
          "output_type": "stream",
          "name": "stdout",
          "text": "output:\n (DeviceArray([[-0.35626447,  0.25178757]], dtype=float32), DeviceArray([[-0.17885922,  0.13063088]], dtype=float32))\n"
        }
      ],
      "source": [
        "y = apply(simple_scan)(init_variables, xs)[0]\n",
        "print('output:\\n', y)"
      ]
    },
    {
      "cell_type": "code",
      "execution_count": null,
      "metadata": {},
      "outputs": [],
      "source": []
    }
  ],
  "metadata": {
    "colab": {
      "name": "flax functional engine.ipynb",
      "provenance": [],
      "collapsed_sections": [],
      "last_runtime": {
        "build_target": "//learning/deepmind/public/tools/ml_python:ml_notebook",
        "kind": "private"
      }
    },
    "kernelspec": {
      "name": "python3",
      "display_name": "Python 3"
    }
  },
  "nbformat": 4,
  "nbformat_minor": 0
}
