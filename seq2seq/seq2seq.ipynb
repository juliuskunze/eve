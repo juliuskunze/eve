{
  "nbformat": 4,
  "nbformat_minor": 0,
  "metadata": {
    "orig_nbformat": 2,
    "colab": {
      "name": "seq2seq.ipynb",
      "provenance": [],
      "collapsed_sections": [],
      "toc_visible": true
    },
    "kernelspec": {
      "name": "python3",
      "display_name": "Python 3"
    },
    "accelerator": "GPU",
    "language_info": {
      "name": "python"
    }
  },
  "cells": [
    {
      "cell_type": "markdown",
      "metadata": {
        "id": "wquAnPg0p4Y8"
      },
      "source": [
        "# Flax seq2seq Example\n",
        "\n",
        "<a href=\"https://colab.research.google.com/github/google/flax/blob/main/examples/seq2seq/seq2seq.ipynb\" ><img src=\"https://colab.research.google.com/assets/colab-badge.svg\" alt=\"Open In Colab\"/></a>\n",
        "\n",
        "Demonstration notebook for\n",
        "https://github.com/google/flax/tree/main/examples/seq2seq\n"
      ]
    },
    {
      "cell_type": "markdown",
      "metadata": {
        "id": "UuqrLz3he_1M"
      },
      "source": [
        "The **Flax Notebook Workflow**:\n",
        "\n",
        "1. Run the entire notebook end-to-end and check out the outputs.\n",
        "   - This will open Python files in the right-hand editor!\n",
        "   - You'll be able to interactively explore metrics in TensorBoard.\n",
        "2. Change `config` and train for different hyperparameters. Check out the\n",
        "   updated TensorBoard plots.\n",
        "3. Update the code in `train.py`. Thanks to `%autoreload`, any changes you\n",
        "   make in the file will automatically appear in the notebook. Some ideas to\n",
        "   get you started:\n",
        "   - Change the model.\n",
        "   - Log some per-batch metrics during training.\n",
        "   - Add new hyperparameters to `configs/default.py` and use them in\n",
        "     `train.py`.\n",
        "4. At any time, feel free to paste code from `train.py` into the notebook\n",
        "   and modify it directly there!"
      ]
    },
    {
      "cell_type": "markdown",
      "metadata": {
        "id": "2cMTM3W4hcsZ"
      },
      "source": [
        "## Setup"
      ]
    },
    {
      "cell_type": "code",
      "metadata": {
        "id": "xVAH-aWN3NzF",
        "colab": {
          "base_uri": "https://localhost:8080/"
        },
        "outputId": "3322393b-f9c1-4e8b-c287-17df2c63d0fa"
      },
      "source": [
        "# Install CLU & latest Flax version from Github.\n",
        "!pip install -q clu git+https://github.com/google/flax"
      ],
      "execution_count": 1,
      "outputs": [
        {
          "output_type": "stream",
          "text": [
            "\u001b[?25l\r\u001b[K     |████▌                           | 10kB 24.9MB/s eta 0:00:01\r\u001b[K     |█████████                       | 20kB 23.2MB/s eta 0:00:01\r\u001b[K     |█████████████▌                  | 30kB 17.9MB/s eta 0:00:01\r\u001b[K     |██████████████████              | 40kB 15.5MB/s eta 0:00:01\r\u001b[K     |██████████████████████▍         | 51kB 8.0MB/s eta 0:00:01\r\u001b[K     |███████████████████████████     | 61kB 7.9MB/s eta 0:00:01\r\u001b[K     |███████████████████████████████▍| 71kB 8.9MB/s eta 0:00:01\r\u001b[K     |████████████████████████████████| 81kB 6.2MB/s \n",
            "\u001b[K     |████████████████████████████████| 122kB 45.5MB/s \n",
            "\u001b[K     |████████████████████████████████| 92kB 13.9MB/s \n",
            "\u001b[K     |████████████████████████████████| 61kB 7.9MB/s \n",
            "\u001b[?25h  Building wheel for flax (setup.py) ... \u001b[?25l\u001b[?25hdone\n"
          ],
          "name": "stdout"
        }
      ]
    },
    {
      "cell_type": "code",
      "metadata": {
        "id": "SwX8bCNEGhJM",
        "tags": []
      },
      "source": [
        "example_directory = 'examples/seq2seq'\n",
        "editor_relpaths = ('train.py',)\n",
        "\n",
        "repo, branch = 'https://github.com/google/flax', 'main'"
      ],
      "execution_count": 2,
      "outputs": []
    },
    {
      "cell_type": "code",
      "metadata": {
        "id": "o65RonwHp4Y9",
        "cellView": "form",
        "colab": {
          "base_uri": "https://localhost:8080/",
          "height": 198
        },
        "outputId": "c0e690bd-142b-495b-91da-04b6bc440587"
      },
      "source": [
        "# (If you run this code in Jupyter[lab], then you're already in the\n",
        "#  example directory and nothing needs to be done.)\n",
        "\n",
        "#@markdown **Fetch newest Flax, copy example code**\n",
        "#@markdown\n",
        "#@markdown **If you select no** below, then the files will be stored on the\n",
        "#@markdown *ephemeral* Colab VM. **After some time of inactivity, this VM will\n",
        "#@markdown be restarted an any changes are lost**.\n",
        "#@markdown\n",
        "#@markdown **If you select yes** below, then you will be asked for your\n",
        "#@markdown credentials to mount your personal Google Drive. In this case, all\n",
        "#@markdown changes you make will be *persisted*, and even if you re-run the\n",
        "#@markdown Colab later on, the files will still be the same (you can of course\n",
        "#@markdown remove directories inside your Drive's `flax/` root if you want to\n",
        "#@markdown manually revert these files).\n",
        "\n",
        "if 'google.colab' in str(get_ipython()):\n",
        "  import os\n",
        "  os.chdir('/content')\n",
        "  # Download Flax repo from Github.\n",
        "  if not os.path.isdir('flaxrepo'):\n",
        "    !git clone --depth=1 -b $branch $repo flaxrepo\n",
        "  # Copy example files & change directory.\n",
        "  mount_gdrive = 'no' #@param ['yes', 'no']\n",
        "  if mount_gdrive == 'yes':\n",
        "    DISCLAIMER = 'Note : Editing in your Google Drive, changes will persist.'\n",
        "    from google.colab import drive\n",
        "    drive.mount('/content/gdrive')\n",
        "    example_root_path = f'/content/gdrive/My Drive/flax/{example_directory}'\n",
        "  else:\n",
        "    DISCLAIMER = 'WARNING : Editing in VM - changes lost after reboot!!'\n",
        "    example_root_path = f'/content/{example_directory}'\n",
        "    from IPython import display\n",
        "    display.display(display.HTML(\n",
        "        f'<h1 style=\"color:red;\" class=\"blink\">{DISCLAIMER}</h1>'))\n",
        "  if not os.path.isdir(example_root_path):\n",
        "    os.makedirs(example_root_path)\n",
        "    !cp -r flaxrepo/$example_directory/* \"$example_root_path\"\n",
        "  os.chdir(example_root_path)\n",
        "  from google.colab import files\n",
        "  for relpath in editor_relpaths:\n",
        "    s = open(f'{example_root_path}/{relpath}').read()\n",
        "    open(f'{example_root_path}/{relpath}', 'w').write(\n",
        "        f'## {DISCLAIMER}\\n' + '#' * (len(DISCLAIMER) + 3) + '\\n\\n' + s)\n",
        "    files.view(f'{example_root_path}/{relpath}')"
      ],
      "execution_count": 3,
      "outputs": [
        {
          "output_type": "stream",
          "text": [
            "Cloning into 'flaxrepo'...\n",
            "remote: Enumerating objects: 329, done.\u001b[K\n",
            "remote: Counting objects: 100% (329/329), done.\u001b[K\n",
            "remote: Compressing objects: 100% (291/291), done.\u001b[K\n",
            "remote: Total 329 (delta 58), reused 137 (delta 21), pack-reused 0\u001b[K\n",
            "Receiving objects: 100% (329/329), 1.76 MiB | 8.95 MiB/s, done.\n",
            "Resolving deltas: 100% (58/58), done.\n"
          ],
          "name": "stdout"
        },
        {
          "output_type": "display_data",
          "data": {
            "text/html": [
              "<h1 style=\"color:red;\" class=\"blink\">WARNING : Editing in VM - changes lost after reboot!!</h1>"
            ],
            "text/plain": [
              "<IPython.core.display.HTML object>"
            ]
          },
          "metadata": {
            "tags": []
          }
        },
        {
          "output_type": "display_data",
          "data": {
            "application/javascript": [
              "\n",
              "      ((filepath) => {{\n",
              "        if (!google.colab.kernel.accessAllowed) {{\n",
              "          return;\n",
              "        }}\n",
              "        google.colab.files.view(filepath);\n",
              "      }})(\"/content/examples/seq2seq/train.py\")"
            ],
            "text/plain": [
              "<IPython.core.display.Javascript object>"
            ]
          },
          "metadata": {
            "tags": []
          }
        }
      ]
    },
    {
      "cell_type": "code",
      "metadata": {
        "id": "xcXZ-F3_zBuJ",
        "colab": {
          "base_uri": "https://localhost:8080/"
        },
        "outputId": "4a604681-4c3e-4724-8ee6-6990e5027cca"
      },
      "source": [
        "# Note : In Colab, above cell changed the working directory.\n",
        "!pwd"
      ],
      "execution_count": 4,
      "outputs": [
        {
          "output_type": "stream",
          "text": [
            "/content/examples/seq2seq\n"
          ],
          "name": "stdout"
        }
      ]
    },
    {
      "cell_type": "markdown",
      "metadata": {
        "id": "Tt0rL4ycp4ZB"
      },
      "source": [
        "## Imports"
      ]
    },
    {
      "cell_type": "code",
      "metadata": {
        "id": "EdzHCJuop4ZB"
      },
      "source": [
        "from absl import app\n",
        "app.parse_flags_with_usage(['seq2seq'])\n",
        "\n",
        "from absl import logging\n",
        "logging.set_verbosity(logging.INFO)\n",
        "\n",
        "import jax"
      ],
      "execution_count": 5,
      "outputs": []
    },
    {
      "cell_type": "code",
      "metadata": {
        "tags": [],
        "id": "6Y1ru2Ovp4ZI"
      },
      "source": [
        "# Local imports from current directory - auto reload.\n",
        "# Any changes you make to train.py will appear automatically.\n",
        "%load_ext autoreload\n",
        "%autoreload 2\n",
        "import train"
      ],
      "execution_count": 6,
      "outputs": []
    },
    {
      "cell_type": "markdown",
      "metadata": {
        "id": "gGi7zcRpp4ZL"
      },
      "source": [
        "## Dataset"
      ]
    },
    {
      "cell_type": "code",
      "metadata": {
        "colab": {
          "base_uri": "https://localhost:8080/"
        },
        "id": "xce4axo5Y9xp",
        "outputId": "81cf5931-4252-4d5f-dbe2-c6a4d5bad781"
      },
      "source": [
        "# Examples are generated on the fly.\n",
        "list(train.get_examples(5))"
      ],
      "execution_count": 7,
      "outputs": [
        {
          "output_type": "execute_result",
          "data": {
            "text/plain": [
              "[('38+892', '=930'),\n",
              " ('19+70', '=89'),\n",
              " ('90+293', '=383'),\n",
              " ('31+198', '=229'),\n",
              " ('43+345', '=388')]"
            ]
          },
          "metadata": {
            "tags": []
          },
          "execution_count": 7
        }
      ]
    },
    {
      "cell_type": "code",
      "metadata": {
        "colab": {
          "base_uri": "https://localhost:8080/"
        },
        "id": "k_ZD70nIYlEq",
        "outputId": "b26163a4-1316-4409-9325-6300e422db11"
      },
      "source": [
        "batch = train.get_batch(5)\n",
        "# A single query (/answer) is one-hot encoded.\n",
        "batch['query'][0]"
      ],
      "execution_count": 8,
      "outputs": [
        {
          "output_type": "execute_result",
          "data": {
            "text/plain": [
              "array([[0., 0., 0., 0., 0., 0., 0., 1., 0., 0., 0., 0., 0., 0., 0.],\n",
              "       [0., 0., 0., 0., 0., 0., 0., 0., 0., 0., 0., 0., 1., 0., 0.],\n",
              "       [0., 0., 0., 1., 0., 0., 0., 0., 0., 0., 0., 0., 0., 0., 0.],\n",
              "       [0., 0., 0., 0., 0., 0., 1., 0., 0., 0., 0., 0., 0., 0., 0.],\n",
              "       [0., 0., 0., 0., 0., 0., 0., 0., 0., 0., 0., 0., 0., 1., 0.],\n",
              "       [0., 0., 0., 0., 0., 0., 0., 1., 0., 0., 0., 0., 0., 0., 0.],\n",
              "       [0., 1., 0., 0., 0., 0., 0., 0., 0., 0., 0., 0., 0., 0., 0.],\n",
              "       [1., 0., 0., 0., 0., 0., 0., 0., 0., 0., 0., 0., 0., 0., 0.]],\n",
              "      dtype=float32)"
            ]
          },
          "metadata": {
            "tags": []
          },
          "execution_count": 8
        }
      ]
    },
    {
      "cell_type": "code",
      "metadata": {
        "colab": {
          "base_uri": "https://localhost:8080/"
        },
        "id": "UF19Nr2zZRQo",
        "outputId": "1700d364-c0c2-4901-e71f-a602329851f4"
      },
      "source": [
        "# Note how CTABLE encodes PAD=0, EOS=1, '0'=2, '1'=3, ...\n",
        "train.decode_onehot(batch['query'][:1])"
      ],
      "execution_count": 9,
      "outputs": [
        {
          "output_type": "execute_result",
          "data": {
            "text/plain": [
              "array(['38+293'], dtype='<U6')"
            ]
          },
          "metadata": {
            "tags": []
          },
          "execution_count": 9
        }
      ]
    },
    {
      "cell_type": "markdown",
      "metadata": {
        "id": "KqW8WP5bp4ZS"
      },
      "source": [
        "## Training"
      ]
    },
    {
      "cell_type": "code",
      "metadata": {
        "id": "zzBxSXGGyEfw"
      },
      "source": [
        "# Get a live update during training - use the \"refresh\" button!\n",
        "# (In Jupyter[lab] start \"tensorboard\" in the local directory instead.)\n",
        "if 'google.colab' in str(get_ipython()):\n",
        "  %load_ext tensorboard\n",
        "  %tensorboard --logdir=./workdirs"
      ],
      "execution_count": null,
      "outputs": []
    },
    {
      "cell_type": "code",
      "metadata": {
        "id": "LR9apE1dcFy0"
      },
      "source": [
        "import time\n",
        "workdir = f'./workdirs/{int(time.time())}'"
      ],
      "execution_count": 11,
      "outputs": []
    },
    {
      "cell_type": "code",
      "metadata": {
        "colab": {
          "base_uri": "https://localhost:8080/"
        },
        "id": "HgjiCPuAbZ5m",
        "outputId": "59e41d30-4dc4-48f9-8091-1ab76619f938"
      },
      "source": [
        "# Train 2k steps & log 20 times.\n",
        "app.parse_flags_with_usage([\n",
        "    'seq2seq',\n",
        "    '--num_train_steps=2000',\n",
        "    '--decode_frequency=100',\n",
        "])"
      ],
      "execution_count": 12,
      "outputs": [
        {
          "output_type": "execute_result",
          "data": {
            "text/plain": [
              "['seq2seq']"
            ]
          },
          "metadata": {
            "tags": []
          },
          "execution_count": 12
        }
      ]
    },
    {
      "cell_type": "code",
      "metadata": {
        "colab": {
          "base_uri": "https://localhost:8080/"
        },
        "id": "az3CUuNacBkS",
        "outputId": "cdcd2be0-2dbb-42fa-84bc-d8b162fc0092"
      },
      "source": [
        "state = train.train_model(workdir=workdir)"
      ],
      "execution_count": 13,
      "outputs": [
        {
          "output_type": "stream",
          "text": [
            "INFO:absl:[0] accuracy=0.000000, loss=1.550575\n",
            "INFO:absl:DECODE: 10+730 = _3292 (INCORRECT) correct=740\n",
            "INFO:absl:DECODE: 21+207 =  7 (INCORRECT) correct=228\n",
            "INFO:absl:DECODE: 41+918 =  (INCORRECT) correct=959\n",
            "INFO:absl:DECODE: 58+383 = 0673_ (INCORRECT) correct=441\n",
            "INFO:absl:DECODE: 32+846 = 64576 (INCORRECT) correct=878\n",
            "INFO:absl:[100] accuracy=0.015625, loss=0.722793\n",
            "INFO:absl:DECODE: 28+867 = 996 (INCORRECT) correct=895\n",
            "INFO:absl:DECODE: 47+564 = 661 (INCORRECT) correct=611\n",
            "INFO:absl:DECODE: 2+948 = 944 (INCORRECT) correct=950\n",
            "INFO:absl:DECODE: 73+803 = 826 (INCORRECT) correct=876\n",
            "INFO:absl:DECODE: 99+742 = 824 (INCORRECT) correct=841\n",
            "INFO:absl:[200] accuracy=0.046875, loss=0.532240\n",
            "INFO:absl:DECODE: 73+398 = 462 (INCORRECT) correct=471\n",
            "INFO:absl:DECODE: 98+644 = 732 (INCORRECT) correct=742\n",
            "INFO:absl:DECODE: 65+893 = 966 (INCORRECT) correct=958\n",
            "INFO:absl:DECODE: 9+301 = 331 (INCORRECT) correct=310\n",
            "INFO:absl:DECODE: 52+292 = 331 (INCORRECT) correct=344\n",
            "INFO:absl:[300] accuracy=0.031250, loss=0.470657\n",
            "INFO:absl:DECODE: 75+253 = 326 (INCORRECT) correct=328\n",
            "INFO:absl:DECODE: 53+155 = 209 (INCORRECT) correct=208\n",
            "INFO:absl:DECODE: 46+808 = 842 (INCORRECT) correct=854\n",
            "INFO:absl:DECODE: 93+748 = 845 (INCORRECT) correct=841\n",
            "INFO:absl:DECODE: 74+386 = 456 (INCORRECT) correct=460\n",
            "INFO:absl:[400] accuracy=0.070312, loss=0.410482\n",
            "INFO:absl:DECODE: 19+761 = 773 (INCORRECT) correct=780\n",
            "INFO:absl:DECODE: 59+664 = 737 (INCORRECT) correct=723\n",
            "INFO:absl:DECODE: 59+846 = 918 (INCORRECT) correct=905\n",
            "INFO:absl:DECODE: 71+660 = 737 (INCORRECT) correct=731\n",
            "INFO:absl:DECODE: 98+245 = 344 (INCORRECT) correct=343\n",
            "INFO:absl:[500] accuracy=0.078125, loss=0.416075\n",
            "INFO:absl:DECODE: 13+100 = 114 (INCORRECT) correct=113\n",
            "INFO:absl:DECODE: 32+362 = 393 (INCORRECT) correct=394\n",
            "INFO:absl:DECODE: 52+740 = 781 (INCORRECT) correct=792\n",
            "INFO:absl:DECODE: 45+196 = 243 (INCORRECT) correct=241\n",
            "INFO:absl:DECODE: 98+511 = 615 (INCORRECT) correct=609\n",
            "INFO:absl:[600] accuracy=0.117188, loss=0.408979\n",
            "INFO:absl:DECODE: 90+166 = 259 (INCORRECT) correct=256\n",
            "INFO:absl:DECODE: 97+584 = 685 (INCORRECT) correct=681\n",
            "INFO:absl:DECODE: 39+889 = 937 (INCORRECT) correct=928\n",
            "INFO:absl:DECODE: 5+805 = 80 (INCORRECT) correct=810\n",
            "INFO:absl:DECODE: 42+669 = 717 (INCORRECT) correct=711\n",
            "INFO:absl:[700] accuracy=0.117188, loss=0.387572\n",
            "INFO:absl:DECODE: 35+873 = 909 (INCORRECT) correct=908\n",
            "INFO:absl:DECODE: 50+868 = 924 (INCORRECT) correct=918\n",
            "INFO:absl:DECODE: 26+873 = 994 (INCORRECT) correct=899\n",
            "INFO:absl:DECODE: 87+153 = 236 (INCORRECT) correct=240\n",
            "INFO:absl:DECODE: 16+307 = 322 (INCORRECT) correct=323\n",
            "INFO:absl:[800] accuracy=0.093750, loss=0.378569\n",
            "INFO:absl:DECODE: 65+159 = 229 (INCORRECT) correct=224\n",
            "INFO:absl:DECODE: 72+226 = 296 (INCORRECT) correct=298\n",
            "INFO:absl:DECODE: 0+228 = 232 (INCORRECT) correct=228\n",
            "INFO:absl:DECODE: 11+568 = 589 (INCORRECT) correct=579\n",
            "INFO:absl:DECODE: 37+938 = 981 (INCORRECT) correct=975\n",
            "INFO:absl:[900] accuracy=0.132812, loss=0.354395\n",
            "INFO:absl:DECODE: 17+580 = 590 (INCORRECT) correct=597\n",
            "INFO:absl:DECODE: 2+849 = 850 (INCORRECT) correct=851\n",
            "INFO:absl:DECODE: 26+302 = 327 (INCORRECT) correct=328\n",
            "INFO:absl:DECODE: 73+725 = 796 (INCORRECT) correct=798\n",
            "INFO:absl:DECODE: 63+826 = 889 (CORRECT)\n",
            "INFO:absl:[1000] accuracy=0.289062, loss=0.267508\n",
            "INFO:absl:DECODE: 70+522 = 590 (INCORRECT) correct=592\n",
            "INFO:absl:DECODE: 39+500 = 537 (INCORRECT) correct=539\n",
            "INFO:absl:DECODE: 6+934 = 941 (INCORRECT) correct=940\n",
            "INFO:absl:DECODE: 89+186 = 277 (INCORRECT) correct=275\n",
            "INFO:absl:DECODE: 53+255 = 309 (INCORRECT) correct=308\n",
            "INFO:absl:[1100] accuracy=0.695312, loss=0.132271\n",
            "INFO:absl:DECODE: 51+249 = 390 (INCORRECT) correct=300\n",
            "INFO:absl:DECODE: 93+517 = 610 (CORRECT)\n",
            "INFO:absl:DECODE: 31+841 = 872 (CORRECT)\n",
            "INFO:absl:DECODE: 90+926 = 1015 (INCORRECT) correct=1016\n",
            "INFO:absl:DECODE: 26+694 = 720 (CORRECT)\n",
            "INFO:absl:[1200] accuracy=0.851562, loss=0.055374\n",
            "INFO:absl:DECODE: 23+555 = 578 (CORRECT)\n",
            "INFO:absl:DECODE: 48+376 = 425 (INCORRECT) correct=424\n",
            "INFO:absl:DECODE: 0+801 = 801 (CORRECT)\n",
            "INFO:absl:DECODE: 15+93 = 109 (INCORRECT) correct=108\n",
            "INFO:absl:DECODE: 1+586 = 586 (INCORRECT) correct=587\n",
            "INFO:absl:[1300] accuracy=0.953125, loss=0.030477\n",
            "INFO:absl:DECODE: 57+88 = 145 (CORRECT)\n",
            "INFO:absl:DECODE: 47+502 = 549 (CORRECT)\n",
            "INFO:absl:DECODE: 34+457 = 491 (CORRECT)\n",
            "INFO:absl:DECODE: 11+136 = 147 (CORRECT)\n",
            "INFO:absl:DECODE: 92+484 = 576 (CORRECT)\n",
            "INFO:absl:[1400] accuracy=0.914062, loss=0.032658\n",
            "INFO:absl:DECODE: 20+376 = 396 (CORRECT)\n",
            "INFO:absl:DECODE: 88+428 = 516 (CORRECT)\n",
            "INFO:absl:DECODE: 99+131 = 230 (CORRECT)\n",
            "INFO:absl:DECODE: 46+147 = 193 (CORRECT)\n",
            "INFO:absl:DECODE: 70+377 = 447 (CORRECT)\n",
            "INFO:absl:[1500] accuracy=0.921875, loss=0.024989\n",
            "INFO:absl:DECODE: 75+906 = 981 (CORRECT)\n",
            "INFO:absl:DECODE: 61+864 = 925 (CORRECT)\n",
            "INFO:absl:DECODE: 52+927 = 979 (CORRECT)\n",
            "INFO:absl:DECODE: 16+69 = 85 (CORRECT)\n",
            "INFO:absl:DECODE: 22+339 = 361 (CORRECT)\n",
            "INFO:absl:[1600] accuracy=0.953125, loss=0.018809\n",
            "INFO:absl:DECODE: 28+636 = 664 (CORRECT)\n",
            "INFO:absl:DECODE: 86+650 = 736 (CORRECT)\n",
            "INFO:absl:DECODE: 0+589 = 589 (CORRECT)\n",
            "INFO:absl:DECODE: 31+381 = 412 (CORRECT)\n",
            "INFO:absl:DECODE: 57+548 = 605 (CORRECT)\n",
            "INFO:absl:[1700] accuracy=0.984375, loss=0.008225\n",
            "INFO:absl:DECODE: 0+350 = 350 (CORRECT)\n",
            "INFO:absl:DECODE: 64+491 = 555 (CORRECT)\n",
            "INFO:absl:DECODE: 2+170 = 172 (CORRECT)\n",
            "INFO:absl:DECODE: 24+654 = 678 (CORRECT)\n",
            "INFO:absl:DECODE: 20+830 = 850 (CORRECT)\n",
            "INFO:absl:[1800] accuracy=0.984375, loss=0.008832\n",
            "INFO:absl:DECODE: 33+76 = 109 (CORRECT)\n",
            "INFO:absl:DECODE: 70+900 = 970 (CORRECT)\n",
            "INFO:absl:DECODE: 5+210 = 215 (CORRECT)\n",
            "INFO:absl:DECODE: 22+103 = 125 (CORRECT)\n",
            "INFO:absl:DECODE: 96+571 = 667 (CORRECT)\n",
            "INFO:absl:[1900] accuracy=0.992188, loss=0.009365\n",
            "INFO:absl:DECODE: 48+57 = 105 (CORRECT)\n",
            "INFO:absl:DECODE: 13+59 = 72 (CORRECT)\n",
            "INFO:absl:DECODE: 83+948 = 1031 (CORRECT)\n",
            "INFO:absl:DECODE: 91+280 = 371 (CORRECT)\n",
            "INFO:absl:DECODE: 65+270 = 335 (CORRECT)\n"
          ],
          "name": "stderr"
        }
      ]
    },
    {
      "cell_type": "code",
      "metadata": {
        "tags": [],
        "id": "mZOKD0Y7p4ZW",
        "colab": {
          "base_uri": "https://localhost:8080/"
        },
        "cellView": "form",
        "outputId": "4681faa5-0323-4404-eeef-3cd7baa4995a"
      },
      "source": [
        "if 'google.colab' in str(get_ipython()):\n",
        "  #@markdown You can upload the training results directly to https://tensorboard.dev\n",
        "  #@markdown\n",
        "  #@markdown Note that everbody with the link will be able to see the data.\n",
        "  upload_data = 'no' #@param ['yes', 'no']\n",
        "  if upload_data == 'yes':\n",
        "    !tensorboard dev upload --one_shot --logdir ./workdirs --name 'Flax examples/seq2seq (Colab)'"
      ],
      "execution_count": 42,
      "outputs": [
        {
          "output_type": "stream",
          "text": [
            "Data for the \"text\" plugin is now uploaded to TensorBoard.dev! Note that uploaded data is public. If you do not want to upload data for this plugin, use the \"--plugins\" command line argument.\n",
            "\n",
            "New experiment created. View your TensorBoard at: https://tensorboard.dev/experiment/h81jpOlgS5iBJv4MVdznRQ/\n",
            "\n",
            "\u001b[1m[2021-06-29T21:09:10]\u001b[0m Started scanning logdir.\n",
            "\u001b[1m[2021-06-29T21:09:11]\u001b[0m Total uploaded: 40 scalars, 0 tensors, 0 binary objects\n",
            "\u001b[1m[2021-06-29T21:09:11]\u001b[0m Done scanning logdir.\n",
            "\n",
            "\n",
            "Done. View your TensorBoard at https://tensorboard.dev/experiment/h81jpOlgS5iBJv4MVdznRQ/\n"
          ],
          "name": "stdout"
        }
      ]
    },
    {
      "cell_type": "markdown",
      "metadata": {
        "id": "GBh-2D-Wp4ZY"
      },
      "source": [
        "## Inference"
      ]
    },
    {
      "cell_type": "code",
      "metadata": {
        "colab": {
          "base_uri": "https://localhost:8080/"
        },
        "id": "hwi0ylrOgVKT",
        "outputId": "2fe44b10-5f9a-42f7-d6c6-3ca99699a250"
      },
      "source": [
        "inputs = train.encode_onehot(['2+40'])\n",
        "# batch, max_length, vocab_size\n",
        "inputs.shape"
      ],
      "execution_count": 34,
      "outputs": [
        {
          "output_type": "execute_result",
          "data": {
            "text/plain": [
              "(1, 8, 15)"
            ]
          },
          "metadata": {
            "tags": []
          },
          "execution_count": 34
        }
      ]
    },
    {
      "cell_type": "code",
      "metadata": {
        "id": "hNRtka4Ng61k"
      },
      "source": [
        "# Using different random seeds generates different samples.\n",
        "preds = train.decode(state.params, inputs, jax.random.PRNGKey(0))"
      ],
      "execution_count": 35,
      "outputs": []
    },
    {
      "cell_type": "code",
      "metadata": {
        "colab": {
          "base_uri": "https://localhost:8080/"
        },
        "id": "2LWKWLyohTt8",
        "outputId": "de61eec7-7503-482e-9bdc-b0c29f85cee1"
      },
      "source": [
        "train.decode_onehot(preds)"
      ],
      "execution_count": 36,
      "outputs": [
        {
          "output_type": "execute_result",
          "data": {
            "text/plain": [
              "array(['42'], dtype='<U2')"
            ]
          },
          "metadata": {
            "tags": []
          },
          "execution_count": 36
        }
      ]
    }
  ]
}
